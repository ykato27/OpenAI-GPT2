{
  "nbformat": 4,
  "nbformat_minor": 0,
  "metadata": {
    "colab": {
      "name": "GPT-2のファインチューニング",
      "provenance": [],
      "collapsed_sections": [],
      "authorship_tag": "ABX9TyMYPHUpeoBcS99ZVL26h6sC",
      "include_colab_link": true
    },
    "kernelspec": {
      "name": "python3",
      "display_name": "Python 3"
    },
    "language_info": {
      "name": "python"
    },
    "accelerator": "GPU"
  },
  "cells": [
    {
      "cell_type": "markdown",
      "metadata": {
        "id": "view-in-github",
        "colab_type": "text"
      },
      "source": [
        "<a href=\"https://colab.research.google.com/github/ykato27/OpenAI-GPT2/blob/main/GPT_2%E3%81%AE%E3%83%95%E3%82%A1%E3%82%A4%E3%83%B3%E3%83%81%E3%83%A5%E3%83%BC%E3%83%8B%E3%83%B3%E3%82%B0.ipynb\" target=\"_parent\"><img src=\"https://colab.research.google.com/assets/colab-badge.svg\" alt=\"Open In Colab\"/></a>"
      ]
    },
    {
      "cell_type": "markdown",
      "metadata": {
        "id": "ad29iuzW9Y7m"
      },
      "source": [
        "## 1. gpt2-japaneseのインストール"
      ]
    },
    {
      "cell_type": "code",
      "metadata": {
        "colab": {
          "base_uri": "https://localhost:8080/"
        },
        "id": "CLSVRV_I75S4",
        "outputId": "347d23ce-1fba-4a51-cc12-7a3fcc8fb691"
      },
      "source": [
        "# gpt2-japaneseのインストール\n",
        "!git clone https://github.com/tanreinama/gpt2-japanese\n",
        "%cd gpt2-japanese\n",
        "!pip uninstall tensorflow -y\n",
        "!pip install -r requirements.txt"
      ],
      "execution_count": 1,
      "outputs": [
        {
          "output_type": "stream",
          "text": [
            "Cloning into 'gpt2-japanese'...\n",
            "remote: Enumerating objects: 254, done.\u001b[K\n",
            "remote: Counting objects: 100% (213/213), done.\u001b[K\n",
            "remote: Compressing objects: 100% (148/148), done.\u001b[K\n",
            "remote: Total 254 (delta 115), reused 147 (delta 61), pack-reused 41\u001b[K\n",
            "Receiving objects: 100% (254/254), 1.22 MiB | 4.00 MiB/s, done.\n",
            "Resolving deltas: 100% (134/134), done.\n",
            "/content/gpt2-japanese\n",
            "Found existing installation: tensorflow 2.6.0\n",
            "Uninstalling tensorflow-2.6.0:\n",
            "  Successfully uninstalled tensorflow-2.6.0\n",
            "Requirement already satisfied: tqdm in /usr/local/lib/python3.7/dist-packages (from -r requirements.txt (line 1)) (4.62.0)\n",
            "Requirement already satisfied: numpy in /usr/local/lib/python3.7/dist-packages (from -r requirements.txt (line 2)) (1.19.5)\n",
            "Collecting jaconv\n",
            "  Downloading jaconv-0.3.tar.gz (15 kB)\n",
            "Collecting tensorflow\n",
            "  Downloading tensorflow-2.6.0-cp37-cp37m-manylinux2010_x86_64.whl (458.3 MB)\n",
            "\u001b[K     |████████████████████████████████| 458.3 MB 12 kB/s \n",
            "\u001b[?25hRequirement already satisfied: absl-py~=0.10 in /usr/local/lib/python3.7/dist-packages (from tensorflow->-r requirements.txt (line 4)) (0.12.0)\n",
            "Requirement already satisfied: opt-einsum~=3.3.0 in /usr/local/lib/python3.7/dist-packages (from tensorflow->-r requirements.txt (line 4)) (3.3.0)\n",
            "Requirement already satisfied: wheel~=0.35 in /usr/local/lib/python3.7/dist-packages (from tensorflow->-r requirements.txt (line 4)) (0.37.0)\n",
            "Requirement already satisfied: termcolor~=1.1.0 in /usr/local/lib/python3.7/dist-packages (from tensorflow->-r requirements.txt (line 4)) (1.1.0)\n",
            "Requirement already satisfied: astunparse~=1.6.3 in /usr/local/lib/python3.7/dist-packages (from tensorflow->-r requirements.txt (line 4)) (1.6.3)\n",
            "Requirement already satisfied: gast==0.4.0 in /usr/local/lib/python3.7/dist-packages (from tensorflow->-r requirements.txt (line 4)) (0.4.0)\n",
            "Requirement already satisfied: six~=1.15.0 in /usr/local/lib/python3.7/dist-packages (from tensorflow->-r requirements.txt (line 4)) (1.15.0)\n",
            "Requirement already satisfied: clang~=5.0 in /usr/local/lib/python3.7/dist-packages (from tensorflow->-r requirements.txt (line 4)) (5.0)\n",
            "Requirement already satisfied: tensorboard~=2.6 in /usr/local/lib/python3.7/dist-packages (from tensorflow->-r requirements.txt (line 4)) (2.6.0)\n",
            "Requirement already satisfied: grpcio<2.0,>=1.37.0 in /usr/local/lib/python3.7/dist-packages (from tensorflow->-r requirements.txt (line 4)) (1.39.0)\n",
            "Requirement already satisfied: keras-preprocessing~=1.1.2 in /usr/local/lib/python3.7/dist-packages (from tensorflow->-r requirements.txt (line 4)) (1.1.2)\n",
            "Requirement already satisfied: h5py~=3.1.0 in /usr/local/lib/python3.7/dist-packages (from tensorflow->-r requirements.txt (line 4)) (3.1.0)\n",
            "Requirement already satisfied: keras~=2.6 in /usr/local/lib/python3.7/dist-packages (from tensorflow->-r requirements.txt (line 4)) (2.6.0)\n",
            "Requirement already satisfied: flatbuffers~=1.12.0 in /usr/local/lib/python3.7/dist-packages (from tensorflow->-r requirements.txt (line 4)) (1.12)\n",
            "Requirement already satisfied: tensorflow-estimator~=2.6 in /usr/local/lib/python3.7/dist-packages (from tensorflow->-r requirements.txt (line 4)) (2.6.0)\n",
            "Requirement already satisfied: typing-extensions~=3.7.4 in /usr/local/lib/python3.7/dist-packages (from tensorflow->-r requirements.txt (line 4)) (3.7.4.3)\n",
            "Requirement already satisfied: google-pasta~=0.2 in /usr/local/lib/python3.7/dist-packages (from tensorflow->-r requirements.txt (line 4)) (0.2.0)\n",
            "Requirement already satisfied: wrapt~=1.12.1 in /usr/local/lib/python3.7/dist-packages (from tensorflow->-r requirements.txt (line 4)) (1.12.1)\n",
            "Requirement already satisfied: protobuf>=3.9.2 in /usr/local/lib/python3.7/dist-packages (from tensorflow->-r requirements.txt (line 4)) (3.17.3)\n",
            "Requirement already satisfied: cached-property in /usr/local/lib/python3.7/dist-packages (from h5py~=3.1.0->tensorflow->-r requirements.txt (line 4)) (1.5.2)\n",
            "Requirement already satisfied: google-auth<2,>=1.6.3 in /usr/local/lib/python3.7/dist-packages (from tensorboard~=2.6->tensorflow->-r requirements.txt (line 4)) (1.34.0)\n",
            "Requirement already satisfied: setuptools>=41.0.0 in /usr/local/lib/python3.7/dist-packages (from tensorboard~=2.6->tensorflow->-r requirements.txt (line 4)) (57.4.0)\n",
            "Requirement already satisfied: google-auth-oauthlib<0.5,>=0.4.1 in /usr/local/lib/python3.7/dist-packages (from tensorboard~=2.6->tensorflow->-r requirements.txt (line 4)) (0.4.5)\n",
            "Requirement already satisfied: werkzeug>=0.11.15 in /usr/local/lib/python3.7/dist-packages (from tensorboard~=2.6->tensorflow->-r requirements.txt (line 4)) (1.0.1)\n",
            "Requirement already satisfied: requests<3,>=2.21.0 in /usr/local/lib/python3.7/dist-packages (from tensorboard~=2.6->tensorflow->-r requirements.txt (line 4)) (2.23.0)\n",
            "Requirement already satisfied: tensorboard-data-server<0.7.0,>=0.6.0 in /usr/local/lib/python3.7/dist-packages (from tensorboard~=2.6->tensorflow->-r requirements.txt (line 4)) (0.6.1)\n",
            "Requirement already satisfied: markdown>=2.6.8 in /usr/local/lib/python3.7/dist-packages (from tensorboard~=2.6->tensorflow->-r requirements.txt (line 4)) (3.3.4)\n",
            "Requirement already satisfied: tensorboard-plugin-wit>=1.6.0 in /usr/local/lib/python3.7/dist-packages (from tensorboard~=2.6->tensorflow->-r requirements.txt (line 4)) (1.8.0)\n",
            "Requirement already satisfied: rsa<5,>=3.1.4 in /usr/local/lib/python3.7/dist-packages (from google-auth<2,>=1.6.3->tensorboard~=2.6->tensorflow->-r requirements.txt (line 4)) (4.7.2)\n",
            "Requirement already satisfied: cachetools<5.0,>=2.0.0 in /usr/local/lib/python3.7/dist-packages (from google-auth<2,>=1.6.3->tensorboard~=2.6->tensorflow->-r requirements.txt (line 4)) (4.2.2)\n",
            "Requirement already satisfied: pyasn1-modules>=0.2.1 in /usr/local/lib/python3.7/dist-packages (from google-auth<2,>=1.6.3->tensorboard~=2.6->tensorflow->-r requirements.txt (line 4)) (0.2.8)\n",
            "Requirement already satisfied: requests-oauthlib>=0.7.0 in /usr/local/lib/python3.7/dist-packages (from google-auth-oauthlib<0.5,>=0.4.1->tensorboard~=2.6->tensorflow->-r requirements.txt (line 4)) (1.3.0)\n",
            "Requirement already satisfied: importlib-metadata in /usr/local/lib/python3.7/dist-packages (from markdown>=2.6.8->tensorboard~=2.6->tensorflow->-r requirements.txt (line 4)) (4.6.4)\n",
            "Requirement already satisfied: pyasn1<0.5.0,>=0.4.6 in /usr/local/lib/python3.7/dist-packages (from pyasn1-modules>=0.2.1->google-auth<2,>=1.6.3->tensorboard~=2.6->tensorflow->-r requirements.txt (line 4)) (0.4.8)\n",
            "Requirement already satisfied: idna<3,>=2.5 in /usr/local/lib/python3.7/dist-packages (from requests<3,>=2.21.0->tensorboard~=2.6->tensorflow->-r requirements.txt (line 4)) (2.10)\n",
            "Requirement already satisfied: chardet<4,>=3.0.2 in /usr/local/lib/python3.7/dist-packages (from requests<3,>=2.21.0->tensorboard~=2.6->tensorflow->-r requirements.txt (line 4)) (3.0.4)\n",
            "Requirement already satisfied: certifi>=2017.4.17 in /usr/local/lib/python3.7/dist-packages (from requests<3,>=2.21.0->tensorboard~=2.6->tensorflow->-r requirements.txt (line 4)) (2021.5.30)\n",
            "Requirement already satisfied: urllib3!=1.25.0,!=1.25.1,<1.26,>=1.21.1 in /usr/local/lib/python3.7/dist-packages (from requests<3,>=2.21.0->tensorboard~=2.6->tensorflow->-r requirements.txt (line 4)) (1.24.3)\n",
            "Requirement already satisfied: oauthlib>=3.0.0 in /usr/local/lib/python3.7/dist-packages (from requests-oauthlib>=0.7.0->google-auth-oauthlib<0.5,>=0.4.1->tensorboard~=2.6->tensorflow->-r requirements.txt (line 4)) (3.1.1)\n",
            "Requirement already satisfied: zipp>=0.5 in /usr/local/lib/python3.7/dist-packages (from importlib-metadata->markdown>=2.6.8->tensorboard~=2.6->tensorflow->-r requirements.txt (line 4)) (3.5.0)\n",
            "Building wheels for collected packages: jaconv\n",
            "  Building wheel for jaconv (setup.py) ... \u001b[?25l\u001b[?25hdone\n",
            "  Created wheel for jaconv: filename=jaconv-0.3-py3-none-any.whl size=15565 sha256=a7826c827e5c0bcd5e332cf283f72ebb82a9f6774fdedb1cb3d2295bc2e4464f\n",
            "  Stored in directory: /root/.cache/pip/wheels/8f/4f/c2/a2a3b14d0e94f855f4aa8887bf0267bee9ecfb8e62a9ee2d92\n",
            "Successfully built jaconv\n",
            "Installing collected packages: tensorflow, jaconv\n",
            "Successfully installed jaconv-0.3 tensorflow-2.6.0\n"
          ],
          "name": "stdout"
        }
      ]
    },
    {
      "cell_type": "markdown",
      "metadata": {
        "id": "SnfoJkf29HEK"
      },
      "source": [
        "## 2. モデルのダウンロード"
      ]
    },
    {
      "cell_type": "code",
      "metadata": {
        "colab": {
          "base_uri": "https://localhost:8080/"
        },
        "id": "yk8iEkw_9DGl",
        "outputId": "322d492f-0b80-44f2-f599-281cd228c8a9"
      },
      "source": [
        "# smallモデルのダウンロード\n",
        "!wget https://www.nama.ne.jp/models/gpt2ja-small.tar.bz2\n",
        "!tar xvfj gpt2ja-small.tar.bz2"
      ],
      "execution_count": 2,
      "outputs": [
        {
          "output_type": "stream",
          "text": [
            "--2021-08-22 03:58:31--  https://www.nama.ne.jp/models/gpt2ja-small.tar.bz2\n",
            "Resolving www.nama.ne.jp (www.nama.ne.jp)... 112.78.112.176\n",
            "Connecting to www.nama.ne.jp (www.nama.ne.jp)|112.78.112.176|:443... connected.\n",
            "HTTP request sent, awaiting response... 200 OK\n",
            "Length: 386498535 (369M) [application/x-bzip2]\n",
            "Saving to: ‘gpt2ja-small.tar.bz2’\n",
            "\n",
            "gpt2ja-small.tar.bz 100%[===================>] 368.59M  4.30MB/s    in 95s     \n",
            "\n",
            "2021-08-22 04:00:07 (3.87 MB/s) - ‘gpt2ja-small.tar.bz2’ saved [386498535/386498535]\n",
            "\n",
            "gpt2ja-small/\n",
            "gpt2ja-small/checkpoint\n",
            "gpt2ja-small/model-10412700.data-00000-of-00001\n",
            "gpt2ja-small/model-10412700.index\n",
            "gpt2ja-small/model-10412700.meta\n",
            "special_thanks.txt\n"
          ],
          "name": "stdout"
        }
      ]
    },
    {
      "cell_type": "markdown",
      "metadata": {
        "id": "rpLD8RMU9JH2"
      },
      "source": [
        "## 3. モデルの動作確認"
      ]
    },
    {
      "cell_type": "code",
      "metadata": {
        "colab": {
          "base_uri": "https://localhost:8080/"
        },
        "id": "6yqzPJA59FSj",
        "outputId": "73687d2e-1ae6-4658-c267-59437cf97f43"
      },
      "source": [
        "# smallモデルの動作確認\n",
        "!python gpt2-generate.py --model gpt2ja-small --num_generate 2"
      ],
      "execution_count": 3,
      "outputs": [
        {
          "output_type": "stream",
          "text": [
            "2021-08-22 04:00:42.695000: I tensorflow/core/platform/cpu_feature_guard.cc:142] This TensorFlow binary is optimized with oneAPI Deep Neural Network Library (oneDNN) to use the following CPU instructions in performance-critical operations:  AVX2 AVX512F FMA\n",
            "To enable them in other operations, rebuild TensorFlow with the appropriate compiler flags.\n",
            "2021-08-22 04:00:42.749840: I tensorflow/stream_executor/cuda/cuda_gpu_executor.cc:937] successful NUMA node read from SysFS had negative value (-1), but there must be at least one NUMA node, so returning NUMA node zero\n",
            "2021-08-22 04:00:43.042470: W tensorflow/stream_executor/platform/default/dso_loader.cc:64] Could not load dynamic library 'libcusolver.so.11'; dlerror: libcusolver.so.11: cannot open shared object file: No such file or directory; LD_LIBRARY_PATH: /usr/lib64-nvidia\n",
            "2021-08-22 04:00:43.094944: W tensorflow/core/common_runtime/gpu/gpu_device.cc:1835] Cannot dlopen some GPU libraries. Please make sure the missing libraries mentioned above are installed properly if you would like to use GPU. Follow the guide at https://www.tensorflow.org/install/gpu for how to download and setup the required libraries for your platform.\n",
            "Skipping registering GPU devices...\n",
            "WARNING:tensorflow:From /content/gpt2-japanese/sampling.py:79: to_float (from tensorflow.python.ops.math_ops) is deprecated and will be removed in a future version.\n",
            "Instructions for updating:\n",
            "Use `tf.cast` instead.\n",
            "2021-08-22 04:00:45.430331: I tensorflow/stream_executor/cuda/cuda_gpu_executor.cc:937] successful NUMA node read from SysFS had negative value (-1), but there must be at least one NUMA node, so returning NUMA node zero\n",
            "2021-08-22 04:00:45.430954: W tensorflow/core/common_runtime/gpu/gpu_device.cc:1835] Cannot dlopen some GPU libraries. Please make sure the missing libraries mentioned above are installed properly if you would like to use GPU. Follow the guide at https://www.tensorflow.org/install/gpu for how to download and setup the required libraries for your platform.\n",
            "Skipping registering GPU devices...\n",
            "WARNING:tensorflow:From /usr/local/lib/python3.7/dist-packages/tensorflow/python/util/dispatch.py:206: multinomial (from tensorflow.python.ops.random_ops) is deprecated and will be removed in a future version.\n",
            "Instructions for updating:\n",
            "Use `tf.random.categorical` instead.\n",
            "\n",
            "まだまだ先ですね。(まだです。)\n",
            "\n",
            "\n",
            "========\n",
            "「――ああっ！？ あんた、俺の部下を返すんじゃったのになんでまたあんたらと関わりがあるんじゃ！？ 何か勘違いしておるのか！？」\n",
            "今まで、二人に何度も見られていた、大きすぎる顔を真っ赤にしたルーフェスだったが、すぐにやめると再び剣を構えた。\n",
            "「それは私の口からは言えません。ですが、何かと私に対して失礼なことを言ってきます」\n",
            "「……おぅ？ おほんっ……！！ 何を言っておるのじゃ？ お主らは、この国の民じゃろう……」\n",
            "「そう、それで私は、ここに来る前に来てもらった身です」\n",
            "「何だって！！！！！」\n",
            "突然話のわからない人から話が飛び出してきた二人に、ルーフェスの顔は喜色に満ち溢（あふ）れていた。\n",
            "「それで？ ここにいる皆様は、一体誰じゃ～？」\n",
            "「ええっと、どうやら、あなたたちの仲間の、この国のお姫様の様です。何かあったの～？」\n",
            "先程の会話を聞き終わる事なく、二人に近づいてきたアイラ。\n",
            "「そんな、何があったのですか？ 私たちはルーフェスさんと、何かあったのですか？」\n",
            "「「あ、えっと……」」\n",
            "アイラの問いかけに、どう答えるのかと聞こうとするアイラ。しかし、アイラには何も言えずに戸惑い、困惑する二人だ\n"
          ],
          "name": "stdout"
        }
      ]
    },
    {
      "cell_type": "markdown",
      "metadata": {
        "id": "3xvu4c_0925c"
      },
      "source": [
        "「gpt2-generate.py」のパラメータは、次のとおりです。\n",
        "\n",
        "- --model : モデル (gpt2ja-medium)\n",
        "- --num_generate : 生成するテキスト数 (デフォルト5)\n",
        "- --context : 開始テキスト (デフォルト <|endoftext|>)\n",
        "- --top_k : 各ステップでk個の単語からランダム選択 (デフォルト40)\n",
        "- --top_p : 生成テキストを累積確率に制限 (デフォルト0、制限なし)\n",
        "- --temperature : 温度（デフォルト1、推奨0.7〜1.0）"
      ]
    },
    {
      "cell_type": "markdown",
      "metadata": {
        "id": "_TfVFMh4_AG4"
      },
      "source": [
        "## 4. データセットの作成\n",
        "「Japanese-BPEEncoder」を使ってファインチューニング用のデータセットを作成。"
      ]
    },
    {
      "cell_type": "code",
      "metadata": {
        "colab": {
          "base_uri": "https://localhost:8080/"
        },
        "id": "q60aNTLd9MPW",
        "outputId": "376527bd-fb77-4940-aa47-09ecd6b04eee"
      },
      "source": [
        "# データセットの作成\n",
        "!git clone https://github.com/tanreinama/Japanese-BPEEncoder.git\n",
        "!python ./Japanese-BPEEncoder/encode_bpe.py --src_dir akane-talk --dst_file finetune"
      ],
      "execution_count": 4,
      "outputs": [
        {
          "output_type": "stream",
          "text": [
            "Cloning into 'Japanese-BPEEncoder'...\n",
            "remote: Enumerating objects: 34, done.\u001b[K\n",
            "remote: Counting objects: 100% (34/34), done.\u001b[K\n",
            "remote: Compressing objects: 100% (27/27), done.\u001b[K\n",
            "remote: Total 34 (delta 14), reused 20 (delta 5), pack-reused 0\u001b[K\n",
            "Unpacking objects: 100% (34/34), done.\n"
          ],
          "name": "stdout"
        }
      ]
    },
    {
      "cell_type": "markdown",
      "metadata": {
        "id": "1uvZo0GA_MFO"
      },
      "source": [
        "## 5. ファインチューニング"
      ]
    },
    {
      "cell_type": "code",
      "metadata": {
        "colab": {
          "base_uri": "https://localhost:8080/"
        },
        "id": "X5yFFVh6_KWI",
        "outputId": "8b9a1bfe-0afa-4760-dc41-cc1c3c8e7f96"
      },
      "source": [
        "!python run_finetune.py --base_model gpt2ja-small --dataset finetune.npz --run_name gpr2ja-finetune_run1"
      ],
      "execution_count": 5,
      "outputs": [
        {
          "output_type": "stream",
          "text": [
            "2021-08-22 04:01:56.065147: I tensorflow/core/platform/cpu_feature_guard.cc:142] This TensorFlow binary is optimized with oneAPI Deep Neural Network Library (oneDNN) to use the following CPU instructions in performance-critical operations:  AVX2 AVX512F FMA\n",
            "To enable them in other operations, rebuild TensorFlow with the appropriate compiler flags.\n",
            "2021-08-22 04:01:56.092773: I tensorflow/stream_executor/cuda/cuda_gpu_executor.cc:937] successful NUMA node read from SysFS had negative value (-1), but there must be at least one NUMA node, so returning NUMA node zero\n",
            "2021-08-22 04:01:56.105027: W tensorflow/stream_executor/platform/default/dso_loader.cc:64] Could not load dynamic library 'libcusolver.so.11'; dlerror: libcusolver.so.11: cannot open shared object file: No such file or directory; LD_LIBRARY_PATH: /usr/lib64-nvidia\n",
            "2021-08-22 04:01:56.105799: W tensorflow/core/common_runtime/gpu/gpu_device.cc:1835] Cannot dlopen some GPU libraries. Please make sure the missing libraries mentioned above are installed properly if you would like to use GPU. Follow the guide at https://www.tensorflow.org/install/gpu for how to download and setup the required libraries for your platform.\n",
            "Skipping registering GPU devices...\n",
            "Loading checkpoint gpt2ja-small/model-10412700\n",
            "Loading dataset...\n",
            "Training...\n",
            "Traceback (most recent call last):\n",
            "  File \"run_finetune.py\", line 248, in <module>\n",
            "    main()\n",
            "  File \"run_finetune.py\", line 224, in main\n",
            "    feed_dict=sample_feature())\n",
            "  File \"run_finetune.py\", line 170, in sample_feature\n",
            "    idx = global_chunk_index[global_chunk_step]\n",
            "IndexError: index 0 is out of bounds for axis 0 with size 0\n"
          ],
          "name": "stdout"
        }
      ]
    },
    {
      "cell_type": "markdown",
      "metadata": {
        "id": "WfeTPTAx_UPf"
      },
      "source": [
        "パラメータは、次のとおりです。\n",
        "\n",
        "- --dataset : データセット(npzファイル)\n",
        "- --base_model : モデルファイルのパス (デフォルト: gpt2ja-small)\n",
        "- --batch_size : バッチサイズ (デフォルト: 1)\n",
        "- --optim : オプティマイザ (adam, adagrad, sgd) (デフォルト: adam)\n",
        "- --learning_rate : オプティマイザーの学習率 (デフォルト: 5)\n",
        "- --warmup_steps : 学習率のウォーミングアップステップ (デフォルト: 0)\n",
        "- --run_name : 実行ID。 checkpoint/とsamples/のサブフォルダ名 (デフォルト: gpt2ja_finetune)\n",
        "- --save_every : Nステップ毎にチェックポイントを書き込むか (デフォルト: 1000)\n",
        "- --gpu : GPU番号 (デフォルト: '0')"
      ]
    },
    {
      "cell_type": "markdown",
      "metadata": {
        "id": "TZIcLT18_Z7g"
      },
      "source": [
        "## 6. ファインチューニングしたモデルの動作確認\n",
        "動作確認のため、ランダムな日本語テキストの生成を行います。テキスト生成を行うには「gpt2-generate.py」を使います。"
      ]
    },
    {
      "cell_type": "code",
      "metadata": {
        "colab": {
          "base_uri": "https://localhost:8080/"
        },
        "id": "4H93Vkcz_Qpv",
        "outputId": "1a7506f9-5c78-4b52-8c34-10bb1ce54b99"
      },
      "source": [
        "# ファインチューニングしたモデルの動作確認\n",
        "!python gpt2-generate.py --model gpt2ja-small --num_generate 5"
      ],
      "execution_count": 6,
      "outputs": [
        {
          "output_type": "stream",
          "text": [
            "2021-08-22 04:02:07.216515: I tensorflow/core/platform/cpu_feature_guard.cc:142] This TensorFlow binary is optimized with oneAPI Deep Neural Network Library (oneDNN) to use the following CPU instructions in performance-critical operations:  AVX2 AVX512F FMA\n",
            "To enable them in other operations, rebuild TensorFlow with the appropriate compiler flags.\n",
            "2021-08-22 04:02:07.243541: I tensorflow/stream_executor/cuda/cuda_gpu_executor.cc:937] successful NUMA node read from SysFS had negative value (-1), but there must be at least one NUMA node, so returning NUMA node zero\n",
            "2021-08-22 04:02:07.248444: W tensorflow/stream_executor/platform/default/dso_loader.cc:64] Could not load dynamic library 'libcusolver.so.11'; dlerror: libcusolver.so.11: cannot open shared object file: No such file or directory; LD_LIBRARY_PATH: /usr/lib64-nvidia\n",
            "2021-08-22 04:02:07.254814: W tensorflow/core/common_runtime/gpu/gpu_device.cc:1835] Cannot dlopen some GPU libraries. Please make sure the missing libraries mentioned above are installed properly if you would like to use GPU. Follow the guide at https://www.tensorflow.org/install/gpu for how to download and setup the required libraries for your platform.\n",
            "Skipping registering GPU devices...\n",
            "WARNING:tensorflow:From /content/gpt2-japanese/sampling.py:79: to_float (from tensorflow.python.ops.math_ops) is deprecated and will be removed in a future version.\n",
            "Instructions for updating:\n",
            "Use `tf.cast` instead.\n",
            "2021-08-22 04:02:09.566787: I tensorflow/stream_executor/cuda/cuda_gpu_executor.cc:937] successful NUMA node read from SysFS had negative value (-1), but there must be at least one NUMA node, so returning NUMA node zero\n",
            "2021-08-22 04:02:09.567385: W tensorflow/core/common_runtime/gpu/gpu_device.cc:1835] Cannot dlopen some GPU libraries. Please make sure the missing libraries mentioned above are installed properly if you would like to use GPU. Follow the guide at https://www.tensorflow.org/install/gpu for how to download and setup the required libraries for your platform.\n",
            "Skipping registering GPU devices...\n",
            "WARNING:tensorflow:From /usr/local/lib/python3.7/dist-packages/tensorflow/python/util/dispatch.py:206: multinomial (from tensorflow.python.ops.random_ops) is deprecated and will be removed in a future version.\n",
            "Instructions for updating:\n",
            "Use `tf.random.categorical` instead.\n",
            "こんばんは。\n",
            "\n",
            "お金が無くても、誰かにお金を貸す為に、親に金を借りて\n",
            "もらった方がよいでしょうか?\n",
            "\n",
            "宜しくお願い致します。\n",
            "\n",
            "========\n",
            "2週間前の水曜日、3歳になった長男が3人でお友達と話をしました。\n",
            "私が、3人目は、お母さんと、夫の嫁のお嫁さんで、子供はいないとのこと。\n",
            "夫には、「お子さんたちは、家族の一員になり、いつも楽しく楽しく育っています。子供たちも、子供の世話は私がしなくとも良いと。でも子供たちは、家に残るから3人目は、お母さんがいつも側に居る、そのことを忘れないように育て、必要なことをしてあげること。」と言われました。\n",
            "\n",
            "息子は3歳の1つ年下ですが、私が2歳だった頃、同じ小学校に行ったことがあったんですが、同じ小学校に行ったことがなく、お友達のお嫁さんとの待ち合わせでもしない限り行けず。そこで、お嫁さんが子供たちに何かあったかと報告したら、3人でお昼を食べに行ったそうです。\n",
            "そこに、お友達が行く幼稚園での会話。お母さんの名前を出したら、他の幼稚園でのお友達と話している様子。\n",
            "お母さんの友達に、「お母さんは、この園でのお友達とも何も喋らなかったけれど、お母さんは全然そんなことなく楽しそうだよ〜って、みんな楽しそうで」と言われ、お友達は大爆笑。\n",
            "\n",
            "そして、お友達のお嫁さんを悪く言う子供は、お母さんの悪口を言った\n",
            "========\n",
            "\n",
            "28歳で結婚と言われたら、何も話が出来ないんだと思いますが。\n",
            "この年齢になったばっかりなので、そんなに結婚話が出来るとも思えません。\n",
            "\n",
            "正直な意見だけど、このまま結婚をすれば、彼に申し訳ないと思う人が多い気がして。\n",
            "\n",
            "あなたと同じ悩みを持ち、付き合うのは、結婚が当たり前で、普通に生きるなら、離婚しようと考えている人に離婚に対してしたら、当たり前は違ったんじゃないですか?\n",
            "\n",
            "\n",
            "========\n",
            "\n",
            "<URL>\n",
            "\n",
            "\n",
            "========\n",
            "「これで、終わりだ」\n",
            "「うん。でも、これで終わり」\n",
            "黒衣の中から、新たな魔力を得た光の刃が生まれてしまった。\n",
            "「…………ッ」\n",
            "漆黒の魔力に身を包んだ俺は、剣から手を離した。\n",
            "そういえば、これが初めての戦闘だったかもしれない。\n",
            "これがあれば、俺は何をしただろうか。\n",
            "そんなことを思いながら、黒衣の中からも一歩ずつ進み出て、黒衣の元へと駆け出す。\n",
            "その時、俺の後ろに、黒衣の中の黒刀が迫る。\n",
            "「くっ……！」\n",
            "黒衣の中で、黒刀が黒い体に切っ先を突き付ける。\n",
            "黒い体に押し潰されてしまった黒刀。\n",
            "「…………あ、あぁぁ」\n",
            "「……どうか、生きていて」\n",
            "黒衣はそう言うと、俺の顔を見る。\n",
            "そして、その顔に優しく微笑んだ。\n",
            "「大丈夫だ」\n",
            "「……！」\n",
            "黒衣の中で、黒刀の刃に魔力が集まっていく。\n",
            "「…………ッ」\n",
            "次第に、黒刀の体に力が満ち始める。\n",
            "黒衣の中も、いつもよりずっと強くなった。\n",
            "もう、体が動けない。\n",
            "「これで、終わり……！」\n",
            "黒刀から伸びて伸びて伸びていく力。\n",
            "それは、黒衣に向かって、突き刺さった。\n",
            "「くっ……！やめろッ！」\n",
            "黒衣の中に黒刀が突き刺さり、黒い体に強い魔力が溢れ出していく。\n",
            "黒衣の中で、そ\n"
          ],
          "name": "stdout"
        }
      ]
    },
    {
      "cell_type": "code",
      "metadata": {
        "id": "Sv-e_ERN_euQ"
      },
      "source": [
        ""
      ],
      "execution_count": 6,
      "outputs": []
    }
  ]
}